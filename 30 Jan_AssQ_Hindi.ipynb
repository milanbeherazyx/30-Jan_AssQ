{
 "cells": [
  {
   "cell_type": "code",
   "execution_count": 1,
   "id": "14b33f5c-3b52-4f0e-9331-67afe38c9004",
   "metadata": {},
   "outputs": [
    {
     "data": {
      "text/plain": [
       "'\\n1. Write a program to accept percentage from the user and display the grade according to the following \\ncriteria:\\nmarks\\t\\t\\t\\tgrade\\n>90\\t\\t\\t \\t    A\\n>80 and <=90\\t\\tB\\n>=60 and <=80\\t\\tc\\nbelow 60\\t\\t\\td\\n'"
      ]
     },
     "execution_count": 1,
     "metadata": {},
     "output_type": "execute_result"
    }
   ],
   "source": [
    "\"\"\"\n",
    "1. Write a program to accept percentage from the user and display the grade according to the following \n",
    "criteria:\n",
    "marks\t\t\t\tgrade\n",
    ">90\t\t\t \t    A\n",
    ">80 and <=90\t\tB\n",
    ">=60 and <=80\t\tc\n",
    "below 60\t\t\td\n",
    "\"\"\"\n"
   ]
  },
  {
   "cell_type": "code",
   "execution_count": 5,
   "id": "ee09dadc-b18d-452a-9924-5b6fc1808af4",
   "metadata": {},
   "outputs": [
    {
     "name": "stdin",
     "output_type": "stream",
     "text": [
      "Enter percentage:  32\n"
     ]
    },
    {
     "name": "stdout",
     "output_type": "stream",
     "text": [
      "Grade: D\n"
     ]
    }
   ],
   "source": [
    "percentage = float(input(\"Enter percentage: \"))\n",
    "\n",
    "if percentage > 90:\n",
    "    print(\"Grade: A\")\n",
    "elif percentage > 80 and percentage <= 90:\n",
    "    print(\"Grade: B\")\n",
    "elif percentage >= 60 and percentage <= 80:\n",
    "    print(\"Grade: C\")\n",
    "else:\n",
    "    print(\"Grade: D\")\n"
   ]
  },
  {
   "cell_type": "code",
   "execution_count": 6,
   "id": "70371bbc-182a-4301-bdc2-9fb2e247c2e6",
   "metadata": {},
   "outputs": [
    {
     "data": {
      "text/plain": [
       "'\\n2 Write a program to accept the cost price of a bike and display the rood tax to be paid according to the\\nfollowing criteria:\\nTax\\t\\t\\t\\t\\tCost Price(in Rs)\\n15% \\t\\t\\t\\t\\t>100000\\n10% \\t\\t\\t\\t\\t>50000 and 100000\\n5% \\t\\t\\t\\t\\t    < = 50000\\n'"
      ]
     },
     "execution_count": 6,
     "metadata": {},
     "output_type": "execute_result"
    }
   ],
   "source": [
    "\"\"\"\n",
    "2 Write a program to accept the cost price of a bike and display the rood tax to be paid according to the\n",
    "following criteria:\n",
    "Tax\t\t\t\t\tCost Price(in Rs)\n",
    "15% \t\t\t\t\t>100000\n",
    "10% \t\t\t\t\t>50000 and 100000\n",
    "5% \t\t\t\t\t    < = 50000\n",
    "\"\"\""
   ]
  },
  {
   "cell_type": "code",
   "execution_count": 7,
   "id": "b9b7cf04-1b2e-4821-90c7-ea2ea5a5f9cc",
   "metadata": {},
   "outputs": [
    {
     "name": "stdin",
     "output_type": "stream",
     "text": [
      "Enter cost price of bike (in Rs):  100000\n"
     ]
    },
    {
     "name": "stdout",
     "output_type": "stream",
     "text": [
      "The road tax to be paid is: Rs 10000.0\n"
     ]
    }
   ],
   "source": [
    "cost_price = float(input(\"Enter cost price of bike (in Rs): \"))\n",
    "\n",
    "if cost_price > 100000:\n",
    "    tax = cost_price * 0.15\n",
    "elif cost_price > 50000 and cost_price <= 100000:\n",
    "    tax = cost_price * 0.1\n",
    "else:\n",
    "    tax = cost_price * 0.05\n",
    "\n",
    "print(\"The road tax to be paid is: Rs\", tax)\n"
   ]
  },
  {
   "cell_type": "code",
   "execution_count": 8,
   "id": "027334fd-1226-4624-99f2-db226666115c",
   "metadata": {},
   "outputs": [
    {
     "data": {
      "text/plain": [
       "'\\n3. Accept any city from the user and display monuments of that city.\\nCity \\t\\t\\t\\t\\tMonument\\nDelhi \\t\\t\\t\\t    Red Fort\\nAgra \\t\\t\\t\\t\\tTaj Mahal\\nJaipur \\t\\t\\t\\t    Jal Mahal\\n\\n'"
      ]
     },
     "execution_count": 8,
     "metadata": {},
     "output_type": "execute_result"
    }
   ],
   "source": [
    "\"\"\"\n",
    "3. Accept any city from the user and display monuments of that city.\n",
    "City \t\t\t\t\tMonument\n",
    "Delhi \t\t\t\t    Red Fort\n",
    "Agra \t\t\t\t\tTaj Mahal\n",
    "Jaipur \t\t\t\t    Jal Mahal\n",
    "\n",
    "\"\"\""
   ]
  },
  {
   "cell_type": "code",
   "execution_count": 11,
   "id": "71a5a289-1461-44b7-9880-b9291d6fcff8",
   "metadata": {},
   "outputs": [
    {
     "name": "stdin",
     "output_type": "stream",
     "text": [
      "Enter a city name:  jaipur\n"
     ]
    },
    {
     "name": "stdout",
     "output_type": "stream",
     "text": [
      "Monument: Jal Mahal\n"
     ]
    }
   ],
   "source": [
    "city = input(\"Enter a city name: \")\n",
    "\n",
    "if city.lower() == \"delhi\":\n",
    "    print(\"Monument: Red Fort\")\n",
    "elif city.lower() == \"agra\":\n",
    "    print(\"Monument: Taj Mahal\")\n",
    "elif city.lower() == \"jaipur\":\n",
    "    print(\"Monument: Jal Mahal\")\n",
    "else:\n",
    "    print(\"Monument not found for the entered city\")\n"
   ]
  },
  {
   "cell_type": "code",
   "execution_count": 13,
   "id": "c47613a0-f856-417d-838b-58f2a612981b",
   "metadata": {},
   "outputs": [
    {
     "data": {
      "text/plain": [
       "'\\n4. Check how many times a given number can be divided by 3 before it is less than or equal to 10.\\n'"
      ]
     },
     "execution_count": 13,
     "metadata": {},
     "output_type": "execute_result"
    }
   ],
   "source": [
    "\"\"\"\n",
    "4. Check how many times a given number can be divided by 3 before it is less than or equal to 10.\n",
    "\"\"\""
   ]
  },
  {
   "cell_type": "code",
   "execution_count": 15,
   "id": "c51e9a9a-0399-4a7a-9c17-3fe2772778b5",
   "metadata": {},
   "outputs": [
    {
     "name": "stdin",
     "output_type": "stream",
     "text": [
      "Enter a number:  27\n"
     ]
    },
    {
     "name": "stdout",
     "output_type": "stream",
     "text": [
      "The given number can be divided by 3 1 times before it is less than or equal to 10.\n"
     ]
    }
   ],
   "source": [
    "num = int(input(\"Enter a number: \"))\n",
    "count = 0\n",
    "\n",
    "while num > 10:\n",
    "    num = num / 3\n",
    "    count += 1\n",
    "\n",
    "print(\"The given number can be divided by 3\", count, \"times before it is less than or equal to 10.\")\n"
   ]
  },
  {
   "cell_type": "code",
   "execution_count": 16,
   "id": "bfe7b5b0-0843-4f9b-9211-58045c8eb63a",
   "metadata": {},
   "outputs": [
    {
     "data": {
      "text/plain": [
       "'\\n5. Why and When to Use while Loop in Python give a detailed description with example\\n'"
      ]
     },
     "execution_count": 16,
     "metadata": {},
     "output_type": "execute_result"
    }
   ],
   "source": [
    "\"\"\"\n",
    "5. Why and When to Use while Loop in Python give a detailed description with example\n",
    "\"\"\""
   ]
  },
  {
   "cell_type": "code",
   "execution_count": 18,
   "id": "1de1974d-8833-4362-8b7e-a628cc114a26",
   "metadata": {},
   "outputs": [
    {
     "data": {
      "text/plain": [
       "'\\nThe while loop in Python is used when we need to repeat a block of code until a certain condition is met. \\nIt is ideal when the number of iterations required is not known beforehand or when the condition to end the loop is variable.\\n'"
      ]
     },
     "execution_count": 18,
     "metadata": {},
     "output_type": "execute_result"
    }
   ],
   "source": [
    "\"\"\"\n",
    "The while loop in Python is used when we need to repeat a block of code until a certain condition is met. \n",
    "It is ideal when the number of iterations required is not known beforehand or when the condition to end the loop is variable.\n",
    "\"\"\""
   ]
  },
  {
   "cell_type": "code",
   "execution_count": 19,
   "id": "3fe7c496-eda6-47a2-a30e-bfacab7b96da",
   "metadata": {},
   "outputs": [
    {
     "name": "stdout",
     "output_type": "stream",
     "text": [
      "1\n",
      "2\n",
      "3\n",
      "4\n",
      "5\n",
      "6\n",
      "7\n",
      "8\n",
      "9\n",
      "10\n"
     ]
    }
   ],
   "source": [
    "num = 1\n",
    "while num <= 10:\n",
    "    print(num)\n",
    "    num += 1\n"
   ]
  },
  {
   "cell_type": "code",
   "execution_count": 20,
   "id": "de285f18-7f9d-4eec-a5e8-9435aa851c3f",
   "metadata": {},
   "outputs": [
    {
     "data": {
      "text/plain": [
       "'\\n6. use nested while loop to print 3 different pattern.\\n'"
      ]
     },
     "execution_count": 20,
     "metadata": {},
     "output_type": "execute_result"
    }
   ],
   "source": [
    "\"\"\"\n",
    "6. use nested while loop to print 3 different pattern.\n",
    "\"\"\""
   ]
  },
  {
   "cell_type": "code",
   "execution_count": 22,
   "id": "a053d739-7d2b-45a7-8b2a-2b7db595f9df",
   "metadata": {},
   "outputs": [
    {
     "name": "stdout",
     "output_type": "stream",
     "text": [
      "1 \n",
      "1 2 \n",
      "1 2 3 \n",
      "1 2 3 4 \n",
      "1 2 3 4 5 \n"
     ]
    }
   ],
   "source": [
    "i = 1\n",
    "while i <= 5:\n",
    "    j = 1\n",
    "    while j <= i:\n",
    "        print(j, end=\" \")\n",
    "        j += 1\n",
    "    print()\n",
    "    i += 1\n"
   ]
  },
  {
   "cell_type": "code",
   "execution_count": 23,
   "id": "dd63a0f9-aafe-4bee-ad48-f631a2b60deb",
   "metadata": {},
   "outputs": [
    {
     "name": "stdout",
     "output_type": "stream",
     "text": [
      "1 \n",
      "2 3 \n",
      "4 5 6 \n",
      "7 8 9 10 \n"
     ]
    }
   ],
   "source": [
    "i = 1\n",
    "k = 1\n",
    "while i <= 4:\n",
    "    j = 1\n",
    "    while j <= i:\n",
    "        print(k, end=\" \")\n",
    "        j += 1\n",
    "        k += 1\n",
    "    print()\n",
    "    i += 1\n"
   ]
  },
  {
   "cell_type": "code",
   "execution_count": 24,
   "id": "cefe5b7e-37a4-41a5-b2ce-9225f2c2b407",
   "metadata": {},
   "outputs": [
    {
     "name": "stdout",
     "output_type": "stream",
     "text": [
      "* * * * * \n",
      "* * * * \n",
      "* * * \n",
      "* * \n",
      "* \n"
     ]
    }
   ],
   "source": [
    "i = 5\n",
    "while i >= 1:\n",
    "    j = 1\n",
    "    while j <= i:\n",
    "        print(\"*\", end=\" \")\n",
    "        j += 1\n",
    "    print()\n",
    "    i -= 1\n"
   ]
  },
  {
   "cell_type": "code",
   "execution_count": 26,
   "id": "8b2ba372-7a3c-433d-8067-cf9190908837",
   "metadata": {},
   "outputs": [
    {
     "data": {
      "text/plain": [
       "'\\n7. Reverse a while loop to display numbers from 1O to 1.\\n'"
      ]
     },
     "execution_count": 26,
     "metadata": {},
     "output_type": "execute_result"
    }
   ],
   "source": [
    "\"\"\"\n",
    "7. Reverse a while loop to display numbers from 1O to 1.\n",
    "\"\"\""
   ]
  },
  {
   "cell_type": "code",
   "execution_count": 27,
   "id": "484e1e9e-c971-409d-82a8-0d95d07221ff",
   "metadata": {},
   "outputs": [
    {
     "name": "stdout",
     "output_type": "stream",
     "text": [
      "10\n",
      "9\n",
      "8\n",
      "7\n",
      "6\n",
      "5\n",
      "4\n",
      "3\n",
      "2\n",
      "1\n"
     ]
    }
   ],
   "source": [
    "num = 10\n",
    "while num > 0:\n",
    "    print(num)\n",
    "    num -= 1\n"
   ]
  },
  {
   "cell_type": "code",
   "execution_count": 28,
   "id": "e70ac174-b8cc-4fea-be38-16931386eb11",
   "metadata": {},
   "outputs": [
    {
     "data": {
      "text/plain": [
       "'\\n8. Reverse a while loop to display numbers from 1O to 1.\\n'"
      ]
     },
     "execution_count": 28,
     "metadata": {},
     "output_type": "execute_result"
    }
   ],
   "source": [
    "\"\"\"\n",
    "8. Reverse a while loop to display numbers from 1O to 1.\n",
    "\"\"\""
   ]
  },
  {
   "cell_type": "code",
   "execution_count": 29,
   "id": "2d25f32a-8e75-4a10-8227-d48c7acce62e",
   "metadata": {},
   "outputs": [
    {
     "name": "stdout",
     "output_type": "stream",
     "text": [
      "10\n",
      "9\n",
      "8\n",
      "7\n",
      "6\n",
      "5\n",
      "4\n",
      "3\n",
      "2\n",
      "1\n"
     ]
    }
   ],
   "source": [
    "num = 10\n",
    "while num > 0:\n",
    "    print(num)\n",
    "    num -= 1\n"
   ]
  },
  {
   "cell_type": "code",
   "execution_count": null,
   "id": "be8a66d2-46aa-404d-b16f-f0121512ce9e",
   "metadata": {},
   "outputs": [],
   "source": []
  }
 ],
 "metadata": {
  "kernelspec": {
   "display_name": "Python 3 (ipykernel)",
   "language": "python",
   "name": "python3"
  },
  "language_info": {
   "codemirror_mode": {
    "name": "ipython",
    "version": 3
   },
   "file_extension": ".py",
   "mimetype": "text/x-python",
   "name": "python",
   "nbconvert_exporter": "python",
   "pygments_lexer": "ipython3",
   "version": "3.10.8"
  }
 },
 "nbformat": 4,
 "nbformat_minor": 5
}
